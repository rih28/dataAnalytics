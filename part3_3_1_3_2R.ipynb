{
  "nbformat": 4,
  "nbformat_minor": 0,
  "metadata": {
    "colab": {
      "name": "part3-3.1.3.2R.ipynb",
      "provenance": [],
      "collapsed_sections": [],
      "authorship_tag": "ABX9TyN0u97MVFW3Z6/nNjLY9AwR",
      "include_colab_link": true
    },
    "kernelspec": {
      "name": "ir",
      "display_name": "R"
    }
  },
  "cells": [
    {
      "cell_type": "markdown",
      "metadata": {
        "id": "view-in-github",
        "colab_type": "text"
      },
      "source": [
        "<a href=\"https://colab.research.google.com/github/rih28/dataAnalytics/blob/master/part3_3_1_3_2R.ipynb\" target=\"_parent\"><img src=\"https://colab.research.google.com/assets/colab-badge.svg\" alt=\"Open In Colab\"/></a>"
      ]
    },
    {
      "cell_type": "code",
      "metadata": {
        "id": "Cv4wKZhBaj4W",
        "colab_type": "code",
        "colab": {}
      },
      "source": [
        "ls <- read.csv(\"https://raw.githubusercontent.com/rih28/1122131_DataAnalytics/master/LifeSatisfactionWorldBankData.csv\")"
      ],
      "execution_count": 2,
      "outputs": []
    },
    {
      "cell_type": "code",
      "metadata": {
        "id": "xGDc4ki7aswo",
        "colab_type": "code",
        "colab": {
          "base_uri": "https://localhost:8080/",
          "height": 204
        },
        "outputId": "8a2eda89-c5cd-4d32-f2e2-cab81ed3b551"
      },
      "source": [
        "head(ls)"
      ],
      "execution_count": 3,
      "outputs": [
        {
          "output_type": "display_data",
          "data": {
            "text/plain": [
              "  LOCATION Country        Value GDPPerCapita\n",
              "1 AUS      Australia      7.3   49971.13    \n",
              "2 AUT      Austria        7.1   45237.81    \n",
              "3 BEL      Belgium        6.9   41998.34    \n",
              "4 CAN      Canada         7.4   42322.48    \n",
              "5 CZE      Czech Republic 6.7   18463.39    \n",
              "6 DNK      Denmark        7.6   54664.00    "
            ],
            "text/latex": "A data.frame: 6 × 4\n\\begin{tabular}{r|llll}\n  & LOCATION & Country & Value & GDPPerCapita\\\\\n  & <fct> & <fct> & <dbl> & <dbl>\\\\\n\\hline\n\t1 & AUS & Australia      & 7.3 & 49971.13\\\\\n\t2 & AUT & Austria        & 7.1 & 45237.81\\\\\n\t3 & BEL & Belgium        & 6.9 & 41998.34\\\\\n\t4 & CAN & Canada         & 7.4 & 42322.48\\\\\n\t5 & CZE & Czech Republic & 6.7 & 18463.39\\\\\n\t6 & DNK & Denmark        & 7.6 & 54664.00\\\\\n\\end{tabular}\n",
            "text/markdown": "\nA data.frame: 6 × 4\n\n| <!--/--> | LOCATION &lt;fct&gt; | Country &lt;fct&gt; | Value &lt;dbl&gt; | GDPPerCapita &lt;dbl&gt; |\n|---|---|---|---|---|\n| 1 | AUS | Australia      | 7.3 | 49971.13 |\n| 2 | AUT | Austria        | 7.1 | 45237.81 |\n| 3 | BEL | Belgium        | 6.9 | 41998.34 |\n| 4 | CAN | Canada         | 7.4 | 42322.48 |\n| 5 | CZE | Czech Republic | 6.7 | 18463.39 |\n| 6 | DNK | Denmark        | 7.6 | 54664.00 |\n\n",
            "text/html": [
              "<table>\n",
              "<caption>A data.frame: 6 × 4</caption>\n",
              "<thead>\n",
              "\t<tr><th></th><th scope=col>LOCATION</th><th scope=col>Country</th><th scope=col>Value</th><th scope=col>GDPPerCapita</th></tr>\n",
              "\t<tr><th></th><th scope=col>&lt;fct&gt;</th><th scope=col>&lt;fct&gt;</th><th scope=col>&lt;dbl&gt;</th><th scope=col>&lt;dbl&gt;</th></tr>\n",
              "</thead>\n",
              "<tbody>\n",
              "\t<tr><th scope=row>1</th><td>AUS</td><td>Australia     </td><td>7.3</td><td>49971.13</td></tr>\n",
              "\t<tr><th scope=row>2</th><td>AUT</td><td>Austria       </td><td>7.1</td><td>45237.81</td></tr>\n",
              "\t<tr><th scope=row>3</th><td>BEL</td><td>Belgium       </td><td>6.9</td><td>41998.34</td></tr>\n",
              "\t<tr><th scope=row>4</th><td>CAN</td><td>Canada        </td><td>7.4</td><td>42322.48</td></tr>\n",
              "\t<tr><th scope=row>5</th><td>CZE</td><td>Czech Republic</td><td>6.7</td><td>18463.39</td></tr>\n",
              "\t<tr><th scope=row>6</th><td>DNK</td><td>Denmark       </td><td>7.6</td><td>54664.00</td></tr>\n",
              "</tbody>\n",
              "</table>\n"
            ]
          },
          "metadata": {
            "tags": []
          }
        }
      ]
    },
    {
      "cell_type": "code",
      "metadata": {
        "id": "khE-VrN8avnv",
        "colab_type": "code",
        "colab": {
          "base_uri": "https://localhost:8080/",
          "height": 153
        },
        "outputId": "910ab047-e54d-451c-974d-f4f8ea247b74"
      },
      "source": [
        "summary(ls)"
      ],
      "execution_count": 4,
      "outputs": [
        {
          "output_type": "display_data",
          "data": {
            "text/plain": [
              "    LOCATION       Country       Value        GDPPerCapita   \n",
              " AUS    : 1   Australia: 1   Min.   :4.700   Min.   :  5273  \n",
              " AUT    : 1   Austria  : 1   1st Qu.:5.900   1st Qu.: 16909  \n",
              " BEL    : 1   Belgium  : 1   Median :6.600   Median : 37180  \n",
              " BRA    : 1   Brazil   : 1   Mean   :6.558   Mean   : 35397  \n",
              " CAN    : 1   Canada   : 1   3rd Qu.:7.275   3rd Qu.: 45815  \n",
              " CHE    : 1   Chile    : 1   Max.   :7.600   Max.   :104278  \n",
              " (Other):32   (Other)  :32                                   "
            ]
          },
          "metadata": {
            "tags": []
          }
        }
      ]
    },
    {
      "cell_type": "code",
      "metadata": {
        "id": "Lnt40jjxa1pq",
        "colab_type": "code",
        "colab": {
          "base_uri": "https://localhost:8080/",
          "height": 437
        },
        "outputId": "c580cb23-fd11-4bbd-e572-8ea2cac0ab1c"
      },
      "source": [
        "plot(ls$Value, ls$GDPPerCapita, main=\"Happiness Score vs. GDP Per Capita\")\n",
        "abline(lm(ls$GDPPerCapita ~ ls$Value))"
      ],
      "execution_count": 6,
      "outputs": [
        {
          "output_type": "display_data",
          "data": {
            "image/png": "[encoded data removed]",
            "text/plain": [
              "Plot with title “Happiness Score vs. GDP Per Capita”"
            ]
          },
          "metadata": {
            "tags": [],
            "image/png": {
              "width": 420,
              "height": 420
            },
            "text/plain": {
              "width": 420,
              "height": 420
            }
          }
        }
      ]
    }
  ]
}